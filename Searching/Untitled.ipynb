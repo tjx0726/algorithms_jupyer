{
 "cells": [
  {
   "cell_type": "code",
   "execution_count": 145,
   "metadata": {},
   "outputs": [],
   "source": [
    "def padding(height, rows):\n",
    "    assert(all(len(row) == len(rows[0]) for row in rows))\n",
    "    assert(height + 2 >= len(rows))\n",
    "    width = len(rows[0])\n",
    "    res = [\" \"*width for i in range(height + 2 - len(rows))]+rows\n",
    "    return res"
   ]
  },
  {
   "cell_type": "code",
   "execution_count": 146,
   "metadata": {
    "slideshow": {
     "slide_type": "-"
    }
   },
   "outputs": [],
   "source": [
    "def display_jars(heights=[3, 1, 2], widths=[3, 3, 3], waters=[2, 1, 1]):\n",
    "    assert(len(heights) == len(widths) == len(waters))\n",
    "    max_h = max(heights)\n",
    "    params = map(tuple, zip(*[heights, widths, waters]))\n",
    "    jars = [padding(max_h, display_jar(h, wi, w)) for (h, wi, w) in params]\n",
    "    res = []\n",
    "    for i in range(len(jars[0])):\n",
    "        res.append(' '.join([jar[i] for jar in jars]))\n",
    "    return res"
   ]
  },
  {
   "cell_type": "code",
   "execution_count": 147,
   "metadata": {},
   "outputs": [],
   "source": [
    "def my_print(rows):\n",
    "    for row in rows:\n",
    "        print(row)"
   ]
  },
  {
   "cell_type": "code",
   "execution_count": 262,
   "metadata": {},
   "outputs": [
    {
     "name": "stdout",
     "output_type": "stream",
     "text": [
      "+=======+                                \n",
      "|       |                   +=======+    \n",
      "|~~~~~~~| 2/3 +=======+     |       |    \n",
      "|-------|     |~~~~~~~| 1/1 |~~~~~~~| 1/2\n",
      "+=======+     +=======+     +=======+    \n"
     ]
    }
   ],
   "source": [
    "my_print(display_jars())"
   ]
  },
  {
   "cell_type": "code",
   "execution_count": 270,
   "metadata": {},
   "outputs": [],
   "source": [
    "class jar():\n",
    "    __default_width = 3\n",
    "    __default_magni = 1\n",
    "    __count = 1\n",
    "    def __init__(self, capacity, amount=0, height=None, width=__default_width, water=None, number=None):\n",
    "        if capacity > 100:\n",
    "            raise ValueError(\"This jar is too big!!\")\n",
    "        self.capacity = capacity\n",
    "        self.amount = amount\n",
    "        if amount > capacity:\n",
    "            raise ValueError(\"Too much water!!\")\n",
    "        self.height = int(capacity/jar.__default_magni)\n",
    "        self.water = int(amount/jar.__default_magni)\n",
    "        self.width = width\n",
    "        \n",
    "        self.number = jar.__count\n",
    "        jar.__count += 1\n",
    "        \n",
    "    def display(self):\n",
    "        height = self.height\n",
    "        width = self.width\n",
    "        water = self.water\n",
    "        \n",
    "        amount = self.amount\n",
    "        capacity = self.capacity\n",
    "        \n",
    "        space_padding = len(str(amount))+len(str(capacity)) + 1\n",
    "        \n",
    "        assert(height >= water)\n",
    "        res = []\n",
    "        res.append(\"+=\"+\"==\"*width+\"+ \"+\" \"*space_padding)\n",
    "        for i in range(0, height-water):\n",
    "            res.append(\"| \"+\"  \"*width+\"| \"+\" \"*space_padding)\n",
    "        if water != 0:\n",
    "            res.append(\"|~\"+\"~~\"*width+\"| \"+str(amount)+\"/\"+str(capacity))\n",
    "        for i in range(water-1):\n",
    "            res.append(\"|-\"+\"--\"*width+\"| \"+\" \"*space_padding)\n",
    "        if water == 0:\n",
    "            res.append(\"+=\"+\"==\"*width+\"+ \"+str(amount)+\"/\"+str(capacity))\n",
    "        else:\n",
    "            res.append(\"+=\"+\"==\"*width+\"+ \"+\" \"*space_padding)\n",
    "        res.append(str(self.number).center(len(res[0])))\n",
    "        return res\n",
    "    \n",
    "    def add(self, x):\n",
    "        if x < 0:\n",
    "            raise ValueError(\"Negative amount! Please use minus instead.\")\n",
    "        if self.amount + x > self.capacity:\n",
    "            raise ValueError(\"You attept to add too much water!\")\n",
    "        else:\n",
    "            self.amount += x\n",
    "            self.water = int(self.amount/jar.__default_magni)\n",
    "            \n",
    "    def minus(self, x):\n",
    "        if x < 0:\n",
    "            raise ValueError(\"Negative amount! Please use add instead.\")\n",
    "        if self.amount - x < 0:\n",
    "            raise ValueError(\"You don't have enough water!\")\n",
    "        else:\n",
    "            self.amount -= x\n",
    "            self.water = int(self.amount/jar.__default_magni)\n",
    "            \n",
    "    def refill(self):\n",
    "        self.amount, self.water = self.capacity, self.height\n",
    "        \n",
    "    def clear(self):\n",
    "        self.amount, self.water = 0, 0\n",
    "\n",
    "    def __str__(self):\n",
    "        return \"This is jar No. {}\\n\".format(self.number)+\"\\n\".join(self.display()[:-1])+\"\\n\"\n",
    "    \n",
    "    def __repr__(self):\n",
    "        return self.__str__()"
   ]
  },
  {
   "cell_type": "code",
   "execution_count": 321,
   "metadata": {},
   "outputs": [],
   "source": [
    "a = []\n",
    "a.append(jar(5, amount=3))\n",
    "a.append(jar(4, amount=2))\n",
    "a.append(jar(3, amount=3))"
   ]
  },
  {
   "cell_type": "code",
   "execution_count": 322,
   "metadata": {},
   "outputs": [
    {
     "data": {
      "text/plain": [
       "['+=======+                                ',\n",
       " '|       |     +=======+                  ',\n",
       " '|       |     |       |     +=======+    ',\n",
       " '|~~~~~~~| 3/5 |       |     |~~~~~~~| 3/3',\n",
       " '|-------|     |~~~~~~~| 2/4 |-------|    ',\n",
       " '|-------|     |-------|     |-------|    ',\n",
       " '+=======+     +=======+     +=======+    ']"
      ]
     },
     "execution_count": 322,
     "metadata": {},
     "output_type": "execute_result"
    }
   ],
   "source": [
    "display_jars(heights=[j.height for j in a], widths=[j.width for j in a], waters=[j.water for j in a])"
   ]
  },
  {
   "cell_type": "code",
   "execution_count": 331,
   "metadata": {},
   "outputs": [],
   "source": [
    "def transfer(a, from_jar, to_jar, amount):\n",
    "    if from_jar == to_jar:\n",
    "        raise ValueError(\"From_index and To_index are same!\")\n",
    "    res = display_jars(heights=[j.height for j in a], widths=[j.width for j in a], waters=[j.water for j in a])\n",
    "    from_index = sum([len(j.display()[0]) for j in a[:from_jar]])+a[from_jar].width+1+from_jar\n",
    "    to_index = sum([len(j.display()[0]) for j in a[:to_jar]])+a[to_jar].width+1+to_jar\n",
    "    left_index, right_index = min(from_index, to_index), max(from_index, to_index)\n",
    "    arr = [\" \" for i in range(len(res[0]))]\n",
    "    arr[from_index] = \"|\"\n",
    "    arr[to_index] = \"|\"\n",
    "    arr = \"\".join(arr)\n",
    "    res.append(arr)\n",
    "    if from_index == left_index:\n",
    "        arr = \" \"*left_index + \"+\" + \">-{}->\".format(amount).center(right_index-left_index-1, \"-\") + \"+\" + \" \"*(len(res[0])-right_index)\n",
    "    else:\n",
    "        arr = \" \"*left_index + \"+\" + \"<-{}-<\".format(amount).center(right_index-left_index-1, \"-\") + \"+\" + \" \"*(len(res[0])-right_index)\n",
    "    res.append(arr)\n",
    "    return res"
   ]
  },
  {
   "cell_type": "code",
   "execution_count": null,
   "metadata": {},
   "outputs": [],
   "source": []
  },
  {
   "cell_type": "code",
   "execution_count": 332,
   "metadata": {},
   "outputs": [
    {
     "data": {
      "text/plain": [
       "['+=======+                                ',\n",
       " '|       |     +=======+                  ',\n",
       " '|       |     |       |     +=======+    ',\n",
       " '|~~~~~~~| 3/5 |       |     |~~~~~~~| 3/3',\n",
       " '|-------|     |~~~~~~~| 2/4 |-------|    ',\n",
       " '|-------|     |-------|     |-------|    ',\n",
       " '+=======+     +=======+     +=======+    ',\n",
       " '                  |             |        ',\n",
       " '                  +----<-0-<----+         ']"
      ]
     },
     "execution_count": 332,
     "metadata": {},
     "output_type": "execute_result"
    }
   ],
   "source": [
    "transfer(a, 2, 1, 0)"
   ]
  },
  {
   "cell_type": "code",
   "execution_count": 330,
   "metadata": {},
   "outputs": [
    {
     "ename": "SyntaxError",
     "evalue": "unexpected EOF while parsing (<ipython-input-330-0786f8cd9958>, line 2)",
     "output_type": "error",
     "traceback": [
      "\u001b[0;36m  File \u001b[0;32m\"<ipython-input-330-0786f8cd9958>\"\u001b[0;36m, line \u001b[0;32m2\u001b[0m\n\u001b[0;31m    def __init__(self):\u001b[0m\n\u001b[0m                       ^\u001b[0m\n\u001b[0;31mSyntaxError\u001b[0m\u001b[0;31m:\u001b[0m unexpected EOF while parsing\n"
     ]
    }
   ],
   "source": [
    "class water_problem():\n",
    "    def __init__(self):"
   ]
  },
  {
   "cell_type": "code",
   "execution_count": 305,
   "metadata": {},
   "outputs": [
    {
     "ename": "TypeError",
     "evalue": "'str' object does not support item assignment",
     "output_type": "error",
     "traceback": [
      "\u001b[0;31m---------------------------------------------------------------------------\u001b[0m",
      "\u001b[0;31mTypeError\u001b[0m                                 Traceback (most recent call last)",
      "\u001b[0;32m<ipython-input-305-c7b0a58ac08c>\u001b[0m in \u001b[0;36m<module>\u001b[0;34m()\u001b[0m\n\u001b[1;32m      1\u001b[0m \u001b[0mt\u001b[0m \u001b[0;34m=\u001b[0m \u001b[0;34m\"abc\"\u001b[0m\u001b[0;34m\u001b[0m\u001b[0;34m\u001b[0m\u001b[0m\n\u001b[0;32m----> 2\u001b[0;31m \u001b[0mt\u001b[0m\u001b[0;34m[\u001b[0m\u001b[0;36m0\u001b[0m\u001b[0;34m]\u001b[0m \u001b[0;34m=\u001b[0m \u001b[0;34m\"b\"\u001b[0m\u001b[0;34m\u001b[0m\u001b[0;34m\u001b[0m\u001b[0m\n\u001b[0m",
      "\u001b[0;31mTypeError\u001b[0m: 'str' object does not support item assignment"
     ]
    }
   ],
   "source": []
  },
  {
   "cell_type": "code",
   "execution_count": null,
   "metadata": {},
   "outputs": [],
   "source": []
  }
 ],
 "metadata": {
  "kernelspec": {
   "display_name": "Python 3",
   "language": "python",
   "name": "python3"
  },
  "language_info": {
   "codemirror_mode": {
    "name": "ipython",
    "version": 3
   },
   "file_extension": ".py",
   "mimetype": "text/x-python",
   "name": "python",
   "nbconvert_exporter": "python",
   "pygments_lexer": "ipython3",
   "version": "3.7.3"
  }
 },
 "nbformat": 4,
 "nbformat_minor": 2
}
